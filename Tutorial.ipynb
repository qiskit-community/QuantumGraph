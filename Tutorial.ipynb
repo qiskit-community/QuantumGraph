{
 "cells": [
  {
   "cell_type": "markdown",
   "metadata": {},
   "source": [
    "# Using QuantumGraph\n",
    "\n",
    "The `quantumgraph` package is designed to help build quantum software using an approach that is different from the one you'll learn in textbooks. Here we'll look into the basics of how it works."
   ]
  },
  {
   "cell_type": "markdown",
   "metadata": {},
   "source": [
    "## Setting up\n",
    "\n",
    "The first step is to install `quantumgraph`. You'll also need to install the `pairwise_tomography` package, which is a vital dependency.\n",
    "\n",
    "This can be done by pip installing directly from the repositories. This is usually done with the command line, but you can do it in Jupyter notebooks too. The syntax for Jupyter notebooks is as follows."
   ]
  },
  {
   "cell_type": "markdown",
   "metadata": {
    "scrolled": false
   },
   "source": [
    "!pip install git+https://github.com/if-quantum/pairwise-tomography.git\n",
    "\n",
    "\n",
    "!pip install git+https://github.com/qiskit-community/QuantumGraph.git"
   ]
  },
  {
   "cell_type": "code",
   "execution_count": 1,
   "metadata": {},
   "outputs": [
    {
     "name": "stdout",
     "output_type": "stream",
     "text": [
      "2.0.2\n"
     ]
    }
   ],
   "source": [
    "import qiskit\n",
    "print(qiskit.__version__)"
   ]
  },
  {
   "cell_type": "markdown",
   "metadata": {},
   "source": [
    "With these things installed, you will need to import the class in which all the magic happens."
   ]
  },
  {
   "cell_type": "code",
   "execution_count": 2,
   "metadata": {},
   "outputs": [
    {
     "name": "stdout",
     "output_type": "stream",
     "text": [
      "Name: qiskit\n",
      "Version: 2.0.2\n",
      "Summary: An open-source SDK for working with quantum computers at the level of extended quantum circuits, operators, and primitives.\n",
      "Home-page: https://www.ibm.com/quantum/qiskit\n",
      "Author: \n",
      "Author-email: Qiskit Development Team <qiskit@us.ibm.com>\n",
      "License: Apache 2.0\n",
      "Location: d:\\PHD\\unitaryhack25\\QuantumGraph\\.venv\\Lib\\site-packages\n",
      "Requires: dill, numpy, python-dateutil, rustworkx, scipy, stevedore, symengine, sympy, typing-extensions\n",
      "Required-by: pairwise-tomography, qiskit-aer, qiskit-experiments, qiskit-ibm-experiment, qiskit-ibm-runtime, quantumgraph\n",
      "Note: you may need to restart the kernel to use updated packages.\n"
     ]
    }
   ],
   "source": [
    "%pip show qiskit"
   ]
  },
  {
   "cell_type": "code",
   "execution_count": 3,
   "metadata": {},
   "outputs": [
    {
     "name": "stdout",
     "output_type": "stream",
     "text": [
      "An IBMQ account could not be loaded\n"
     ]
    }
   ],
   "source": [
    "from quantumgraph import QuantumGraph"
   ]
  },
  {
   "cell_type": "markdown",
   "metadata": {},
   "source": [
    "n = 4\n",
    "qubits = QuantumGraph(n)"
   ]
  },
  {
   "cell_type": "markdown",
   "metadata": {},
   "source": [
    "## Initializing the variables\n",
    "\n",
    "Computing is all about encoding information in variables, and then manipulating these variables. So to start we need to understand what variables we will use and how to set them up.\n",
    "\n",
    "The variables in `QuantumGraph` are associated with a set of qubits. We begin by creating a `QuantumGraph` object to hold our qubits. In the example below, we do it for a set of four qubits."
   ]
  },
  {
   "cell_type": "code",
   "execution_count": 4,
   "metadata": {},
   "outputs": [],
   "source": [
    "n = 4\n",
    "qubits = QuantumGraph(n)"
   ]
  },
  {
   "cell_type": "markdown",
   "metadata": {},
   "source": [
    "For each qubit we have three variables, $\\langle X \\rangle$ , $\\langle Y \\rangle$ and $\\langle Z \\rangle$. These are all numbers in the range between $+1$ and $-1$, and they satisfy\n",
    "\n",
    "$$\n",
    "\\langle X \\rangle^2 + \\langle Y \\rangle^2 + \\langle Z \\rangle^2 \\leq 1.\n",
    "$$\n",
    "\n",
    "These values for a qubit `j` can be accessed as a dictionary using the `get_bloch()` method. Here it is in use."
   ]
  },
  {
   "cell_type": "code",
   "execution_count": 5,
   "metadata": {},
   "outputs": [
    {
     "name": "stdout",
     "output_type": "stream",
     "text": [
      "Single qubit variables for qubit 0:\n",
      "Qubit 0 Bloch vector: {'X': np.float64(0.9957106862613663), 'Y': np.float64(-0.00499851077958531), 'Z': np.float64(0.003950097077300967)}\n",
      "\n",
      "Single qubit variables for qubit 1:\n",
      "Qubit 1 Bloch vector: {'X': np.float64(0.0034434737845189635), 'Y': np.float64(-0.002196136238179381), 'Z': np.float64(0.9947131518425394)}\n",
      "\n",
      "Single qubit variables for qubit 2:\n",
      "Qubit 2 Bloch vector: {'X': np.float64(0.0009363017737045447), 'Y': np.float64(-0.004127802174271995), 'Z': np.float64(0.9942614668853331)}\n",
      "\n",
      "Single qubit variables for qubit 3:\n",
      "Qubit 3 Bloch vector: {'X': np.float64(-0.0007351434789436255), 'Y': np.float64(0.00708314104587221), 'Z': np.float64(0.9937444224717349)}\n",
      "\n"
     ]
    }
   ],
   "source": [
    "# Apply Hadamard to qubit 0\n",
    "qubits.qc.h(0)\n",
    "\n",
    "# Update tomography\n",
    "qubits.update_tomography()\n",
    "\n",
    "# Print Bloch vectors\n",
    "for j in range(n):\n",
    "    print('Single qubit variables for qubit ' + str(j) + ':')\n",
    "    print(f\"Qubit {j} Bloch vector: {qubits.get_bloch(j)}\")\n",
    "    print()"
   ]
  },
  {
   "cell_type": "markdown",
   "metadata": {},
   "source": [
    "For each possible pair of qubits $j$ and $k$, we have a whole bunch of variables: $\\langle X_j X_k \\rangle$, $\\langle X_j Y_k \\rangle$, $\\langle X_j Z_k \\rangle$, $\\langle Y_j X_k \\rangle$, $\\langle Y_j Y_k \\rangle$, etc. For a fairly in-depth explation of these, see [this paper](https://arxiv.org/abs/2005.10327).\n",
    "\n",
    "For now it is sufficient to note these variables are initially completely dependent on the single qubit variables. For example\n",
    "\n",
    "$$\n",
    "\\langle X_j Y_k \\rangle = \\langle X_j \\rangle \\langle Y_k \\rangle.\n",
    "$$\n",
    "\n",
    "They can begin to do different things as a computation proceeds, but they'll always satisfy\n",
    "\n",
    "$$\n",
    "\\langle X_j Y_k \\rangle^2 \\geq \\left( \\langle X_j \\rangle \\langle Y_k \\rangle \\right)^2\n",
    "$$\n",
    "\n",
    "These values for a pair of qubits `j` and `k` can be similarly accessed using the `get_relationship()` method."
   ]
  },
  {
   "cell_type": "code",
   "execution_count": 6,
   "metadata": {},
   "outputs": [
    {
     "name": "stdout",
     "output_type": "stream",
     "text": [
      "Two qubit variables for qubits 0 and 1:\n",
      "{'XX': np.float64(0.0025996567963603332), 'XY': np.float64(-0.0027886779891900223), 'XZ': np.float64(0.9932616001321577), 'YX': np.float64(0.00029072612493140284), 'YY': np.float64(0.0006355003944787856), 'YZ': np.float64(-0.005183975318112579), 'ZX': np.float64(0.0037033207895920206), 'ZY': np.float64(0.001048982906454754), 'ZZ': np.float64(0.0035972158480139962)}\n",
      "\n",
      "Two qubit variables for qubits 0 and 2:\n",
      "{'XX': np.float64(6.140746159982648e-05), 'XY': np.float64(-0.003610709875086738), 'XZ': np.float64(0.9931489798257301), 'YX': np.float64(0.004884157428857922), 'YY': np.float64(0.0036821025962418116), 'YZ': np.float64(-0.00493971881103306), 'ZX': np.float64(0.004933040002131228), 'ZY': np.float64(-0.007487602821386016), 'ZZ': np.float64(0.004644003439817923)}\n",
      "\n",
      "Two qubit variables for qubits 0 and 3:\n",
      "{'XX': np.float64(6.483309792402233e-05), 'XY': np.float64(0.0075600945391080384), 'XZ': np.float64(0.9933809479862876), 'YX': np.float64(-0.001689650872974349), 'YY': np.float64(-0.002224221735471635), 'YZ': np.float64(-0.003969603707503823), 'ZX': np.float64(-0.0042027228232554645), 'ZY': np.float64(0.00033639578483895367), 'ZZ': np.float64(0.0011585214127306587)}\n",
      "\n",
      "Two qubit variables for qubits 1 and 2:\n",
      "{'XX': np.float64(-0.005851629936500315), 'XY': np.float64(-0.0016086478203739302), 'XZ': np.float64(0.003837960311997135), 'YX': np.float64(0.0020209535386773074), 'YY': np.float64(0.004412320392104681), 'YZ': np.float64(-0.0015455637517255202), 'ZX': np.float64(0.0019098437422289435), 'ZY': np.float64(-0.00509883180550028), 'ZZ': np.float64(0.9932242228330848)}\n",
      "\n",
      "Two qubit variables for qubits 1 and 3:\n",
      "{'XX': np.float64(-0.003271432804335544), 'XY': np.float64(0.0028855679190358985), 'XZ': np.float64(0.0027586265078275995), 'YX': np.float64(0.0039419121369616734), 'YY': np.float64(0.0016674587172953689), 'YZ': np.float64(-0.0024293037064543905), 'ZX': np.float64(0.0007604928801816969), 'ZY': np.float64(0.006828731572363668), 'ZZ': np.float64(0.992497274328092)}\n",
      "\n",
      "Two qubit variables for qubits 2 and 3:\n",
      "{'XX': np.float64(-7.907735947766155e-05), 'XY': np.float64(0.0008692508184842443), 'XZ': np.float64(-0.0016599566475926806), 'YX': np.float64(0.002570565816868184), 'YY': np.float64(0.002366876737287899), 'YZ': np.float64(-0.002463826475317749), 'ZX': np.float64(-0.0017404527465930274), 'ZY': np.float64(0.007358660259792514), 'ZZ': np.float64(0.9928106290848211)}\n",
      "\n"
     ]
    }
   ],
   "source": [
    "for j in range(n-1):\n",
    "    for k in range(j+1,n):\n",
    "        print('Two qubit variables for qubits ' + str(j) + ' and '  + str(k) + ':')\n",
    "        print(qubits.get_relationship(j,k))\n",
    "        print()"
   ]
  },
  {
   "cell_type": "markdown",
   "metadata": {},
   "source": [
    "The results we see above show us that we are in the standard $|000\\rangle$ initial state, for which\n",
    "\n",
    "$$\\langle Z_j \\rangle = \\langle Z_j Z_k \\rangle = 1 \\,\\,\\,\\, \\forall j,k$$\n",
    "\n",
    "All variables involving $X$ and $Y$ are zero. Any deviations from this seen above are due to the fact that the expectation values are statistically calculated."
   ]
  },
  {
   "cell_type": "markdown",
   "metadata": {},
   "source": [
    "## Manipulating qubits\n",
    "\n",
    "The qubits can be manipulated using normal quantum gates. For this we can directly manipulate the quantum circuit for the qubits, which can be accessed through the attribute `qc`. Since `QuantumGraph` is built on Qiskit, this circuit is a Qiskit `QuantumCircuit` object."
   ]
  },
  {
   "cell_type": "code",
   "execution_count": 7,
   "metadata": {},
   "outputs": [
    {
     "data": {
      "image/png": "[encoded data removed]",
      "text/plain": [
       "<Figure size 203.885x367.889 with 1 Axes>"
      ]
     },
     "execution_count": 7,
     "metadata": {},
     "output_type": "execute_result"
    }
   ],
   "source": [
    "#qubits.qc.h(0)\n",
    "qubits.qc.draw(output='mpl')"
   ]
  },
  {
   "cell_type": "markdown",
   "metadata": {},
   "source": [
    "Here we applied an `h` gate to qubit 0. However, if we look at the state of this qubit we will find that it has not changed."
   ]
  },
  {
   "cell_type": "code",
   "execution_count": 8,
   "metadata": {},
   "outputs": [
    {
     "data": {
      "text/plain": [
       "{'X': np.float64(0.9957106862613663),\n",
       " 'Y': np.float64(-0.00499851077958531),\n",
       " 'Z': np.float64(0.003950097077300967)}"
      ]
     },
     "execution_count": 8,
     "metadata": {},
     "output_type": "execute_result"
    }
   ],
   "source": [
    "qubits.get_bloch(0)"
   ]
  },
  {
   "cell_type": "markdown",
   "metadata": {},
   "source": [
    "This is because we actually have to run the circuit in order to update the tomography. This is done using the `update_tomography()` method."
   ]
  },
  {
   "cell_type": "code",
   "execution_count": 9,
   "metadata": {},
   "outputs": [
    {
     "name": "stdout",
     "output_type": "stream",
     "text": [
      "{'X': np.float64(0.9957106862613663), 'Y': np.float64(-0.00499851077958531), 'Z': np.float64(0.003950097077300967)}\n"
     ]
    }
   ],
   "source": [
    "#qubits.update_tomography() The updae is already done after the Hadamard gate\n",
    "print(qubits.get_bloch(0))"
   ]
  },
  {
   "cell_type": "markdown",
   "metadata": {},
   "source": [
    "Now we have $\\langle X \\rangle = 1$ for qubit 0. If you know what an `h` does, this shouldn't come as a surprise (if you didn't know, then now do!)."
   ]
  },
  {
   "cell_type": "markdown",
   "metadata": {},
   "source": [
    "Another way to manipulate the qubits, which is unique to this method, is to give target values for the variables. This is done using the method `set_bloch()`.\n",
    "\n",
    "For example, to set the state of qubit 1 to $\\langle X \\rangle = 1$ we use"
   ]
  },
  {
   "cell_type": "code",
   "execution_count": 10,
   "metadata": {},
   "outputs": [
    {
     "name": "stdout",
     "output_type": "stream",
     "text": [
      "set_bloch called for qubit 1 with target_expect: {'X': 1}, fraction: 1, update: True\n",
      "Current Bloch vector for qubit 1: {'X': np.float64(0.0034434737845189635), 'Y': np.float64(-0.002196136238179381), 'Z': np.float64(0.9947131518425394)}\n",
      "Target Bloch vector for qubit 1: {'X': 1, 'Y': 0, 'Z': 0}\n",
      "Computed unitary matrix U for qubit 1:\n",
      "[[ 0.70832921-0.00078057j -0.70588138+0.00078057j]\n",
      " [ 0.70588138+0.00078057j  0.70832921+0.00078057j]]\n",
      "Fractional unitary matrix U for qubit 1 (fraction=1):\n",
      "[[ 0.70832921-0.00078057j -0.70588138+0.00078057j]\n",
      " [ 0.70588138+0.00078057j  0.70832921+0.00078057j]]\n",
      "Euler angles for qubit 1: theta=1.5673345733934207, phi=0.0022078049996922663, lambda=-3.8214436022705744e-06\n",
      "Tomography updated after applying set_bloch.\n"
     ]
    }
   ],
   "source": [
    "qubits.set_bloch({'X':1},1)"
   ]
  },
  {
   "cell_type": "markdown",
   "metadata": {},
   "source": [
    "This automatically updates the tomography (unless the keyword `update=False` is added), so we can already verify that it has the correct effect."
   ]
  },
  {
   "cell_type": "code",
   "execution_count": 11,
   "metadata": {},
   "outputs": [
    {
     "name": "stdout",
     "output_type": "stream",
     "text": [
      "{'X': np.float64(0.9931888623997456), 'Y': np.float64(0.004908942458316791), 'Z': np.float64(0.009902427776990796)}\n"
     ]
    }
   ],
   "source": [
    "print(qubits.get_bloch(1))"
   ]
  },
  {
   "cell_type": "markdown",
   "metadata": {},
   "source": [
    "The effect was acheived by considering the initial and target tomography, and finding a unitary to get as close to the target as possible."
   ]
  },
  {
   "cell_type": "code",
   "execution_count": 12,
   "metadata": {},
   "outputs": [
    {
     "data": {
      "image/png": "[encoded data removed]",
      "text/plain": [
       "<Figure size 371.107x367.889 with 1 Axes>"
      ]
     },
     "execution_count": 12,
     "metadata": {},
     "output_type": "execute_result"
    }
   ],
   "source": [
    "qubits.qc.draw(output='mpl')"
   ]
  },
  {
   "cell_type": "markdown",
   "metadata": {},
   "source": [
    "It is not as pretty as the off-the-shelf Hadamard gate, but it has the same effect.\n",
    "\n",
    "The target state for the `set_bloch()` method can include multiple values. For example\n"
   ]
  },
  {
   "cell_type": "code",
   "execution_count": 13,
   "metadata": {},
   "outputs": [
    {
     "name": "stdout",
     "output_type": "stream",
     "text": [
      "set_bloch called for qubit 2 with target_expect: {'X': 1, 'Z': 1}, fraction: 1, update: True\n",
      "Current Bloch vector for qubit 2: {'X': np.float64(-0.003462421452483641), 'Y': np.float64(0.00014761144760904138), 'Z': np.float64(0.9935763045511811)}\n",
      "Target Bloch vector for qubit 2: {'X': 1, 'Z': 1, 'Y': 0}\n",
      "Computed unitary matrix U for qubit 2:\n",
      "[[ 0.92321134+2.84267033e-05j -0.38429261-6.86281327e-05j]\n",
      " [ 0.38429261-6.86281327e-05j  0.92321134-2.84267033e-05j]]\n",
      "Fractional unitary matrix U for qubit 2 (fraction=1):\n",
      "[[ 0.92321134+2.84267033e-05j -0.38429261-6.86281327e-05j]\n",
      " [ 0.38429261-6.86281327e-05j  0.92321134-2.84267033e-05j]]\n",
      "Euler angles for qubit 2: theta=0.7888829670403237, phi=-0.0002093741222644016, lambda=0.000147791899319359\n",
      "Tomography updated after applying set_bloch.\n",
      "{'X': np.float64(0.7055098501419069), 'Y': np.float64(0.006015904519845745), 'Z': np.float64(0.6997115952515951)}\n"
     ]
    }
   ],
   "source": [
    "qubits.set_bloch({'X':1, 'Z':1},2)\n",
    "\n",
    "print(qubits.get_bloch(2))"
   ]
  },
  {
   "cell_type": "markdown",
   "metadata": {},
   "source": [
    "Note that it is not actually possible to set both $\\langle X \\rangle$ and $\\langle Z \\rangle$ of a qubit to $1$, so `set_bloch` just does the best that is possible. For all single qubit values that do not appear in the target state, it is assumed that the target is to set them to zero. So the target used here is equivalent to `{'X':1, 'Y':0, 'Z':1,}`.\n",
    "\n",
    "\n",
    "We can perform similar manipulations on pairs of qubits using the `set_relationship` method. Here we do so for qubits 0 and 1."
   ]
  },
  {
   "cell_type": "code",
   "execution_count": 14,
   "metadata": {},
   "outputs": [
    {
     "name": "stdout",
     "output_type": "stream",
     "text": [
      "{'XX': np.float64(0.9958396034965663), 'XY': np.float64(0.003471465663626873), 'XZ': np.float64(-0.0027268846211303357), 'YX': np.float64(0.003491265306645717), 'YY': np.float64(-0.994137881657622), 'YZ': np.float64(-0.005100002162672443), 'ZX': np.float64(0.0016572558759135958), 'ZY': np.float64(-0.0044527033961557164), 'ZZ': np.float64(0.9940816912780612)}\n"
     ]
    }
   ],
   "source": [
    "qubits.set_relationship( {'ZZ':1}, 0,1 )\n",
    "\n",
    "print(qubits.get_relationship(0,1))"
   ]
  },
  {
   "cell_type": "markdown",
   "metadata": {},
   "source": [
    "Unlike `set_bloch`, it is not assumed that values not present in the target should be set to zero. Instead, it is assumed that they should be changed as little as possible.\n",
    "\n",
    "In the example above, the target is to set $\\langle Z_0 Z_1 \\rangle = 1$. Note that the state already has $\\langle X_0 \\rangle = \\langle X_0 \\rangle = 1$, and therefore $\\langle X_0 X_1 \\rangle = 1$, from the single qubit manipulations we have already performed. Since $Z_0 Z_1$ and $X_0 X_1$ commute, it is possible to satisfy the target condition on $\\langle Z_0 Z_1 \\rangle$ while maintaining the value of $\\langle X_0 X_1 \\rangle$. It is because of this that we end up with a state with $\\langle X_0 X_1 \\rangle = \\langle Z_0 Z_1 \\rangle = 1$.\n",
    "\n",
    "We can also use `set_relationship()` with multiple values in the target. However, unlike for `set_bloch()`, all the corresponding Paulis must commute to get a well defined effect. For example, for qubits 2 and 3."
   ]
  },
  {
   "cell_type": "code",
   "execution_count": 15,
   "metadata": {},
   "outputs": [
    {
     "name": "stdout",
     "output_type": "stream",
     "text": [
      "{'XX': np.float64(-0.00353867506733973), 'XY': np.float64(-0.0017759924810844578), 'XZ': np.float64(0.9910806881991939), 'YX': np.float64(0.0006734715599973915), 'YY': np.float64(0.9928858810316357), 'YZ': np.float64(0.0022665694997811756), 'ZX': np.float64(0.9917686489638413), 'ZY': np.float64(0.002150131725133942), 'ZZ': np.float64(0.004593796345345876)}\n"
     ]
    }
   ],
   "source": [
    "qubits.set_relationship( {'XZ':1,'ZX':1}, 2,3 )\n",
    "\n",
    "print(qubits.get_relationship(2,3))"
   ]
  },
  {
   "cell_type": "markdown",
   "metadata": {},
   "source": [
    "Both `set_bloch` and `set_relationship` also have a `fraction` keyword argument. If we use $U$ to denote the unitary that would have been applied normally, setting a value for `fraction` applies $U^{\\mathtt{fraction}}$ instead.\n",
    "\n",
    "Let's get a fresh pair of qubits to see an example of this."
   ]
  },
  {
   "cell_type": "code",
   "execution_count": 16,
   "metadata": {},
   "outputs": [
    {
     "name": "stdout",
     "output_type": "stream",
     "text": [
      "{'XX': np.float64(0.003609491407044317), 'XY': np.float64(-0.003384250112547626), 'XZ': np.float64(-0.0027639697897486994), 'YX': np.float64(0.00045891232639572903), 'YY': np.float64(-0.0030431669638547616), 'YZ': np.float64(0.003893269128269026), 'ZX': np.float64(0.0029036778975253807), 'ZY': np.float64(-0.019557751815430097), 'ZZ': np.float64(0.9955341939771915)}\n"
     ]
    }
   ],
   "source": [
    "qubits = QuantumGraph(2)\n",
    "\n",
    "print(qubits.get_relationship(0,1))"
   ]
  },
  {
   "cell_type": "markdown",
   "metadata": {},
   "source": [
    "Applying `qubits.set_relationship({'XX':1}, 0,1)` would change the state to get $\\langle X_0 X_1 \\rangle = 1$. But let's add in `fraction=0.5` and see what happens."
   ]
  },
  {
   "cell_type": "code",
   "execution_count": 17,
   "metadata": {},
   "outputs": [
    {
     "name": "stdout",
     "output_type": "stream",
     "text": [
      "{'XX': np.float64(0.660249313256262), 'XY': np.float64(0.34477566450202435), 'XZ': np.float64(-0.004012664717116879), 'YX': np.float64(0.31389894446139177), 'YY': np.float64(-0.6530939020964966), 'YZ': np.float64(-0.06566120313650259), 'ZX': np.float64(0.14923454784773288), 'ZY': np.float64(0.07509451548887787), 'ZZ': np.float64(0.9620327369223185)}\n"
     ]
    }
   ],
   "source": [
    "qubits.set_relationship( {'XX':1}, 0,1, fraction=0.5 )\n",
    "\n",
    "print(qubits.get_relationship(0,1))"
   ]
  },
  {
   "cell_type": "markdown",
   "metadata": {},
   "source": [
    "Here the value has increased $1/\\sqrt{2}$, but not all the way to $1$. In some sense, it is half way there.\n",
    "\n",
    "If we were to apply exactly the same quantum gate operation again, we would get all the way to $\\langle X_0 X_1 \\rangle = 1$. However, note that we cannot do this by simply repeating the same command, since this would generate a new gate which rotates halfway between the current initial state and the target state."
   ]
  },
  {
   "cell_type": "code",
   "execution_count": 18,
   "metadata": {},
   "outputs": [
    {
     "name": "stdout",
     "output_type": "stream",
     "text": [
      "{'XX': np.float64(0.868235403203244), 'XY': np.float64(0.33521268965388606), 'XZ': np.float64(0.06470442099046773), 'YX': np.float64(0.36113389890849446), 'YY': np.float64(-0.8401653313788373), 'YZ': np.float64(0.03376025410078094), 'ZX': np.float64(0.01979725178581629), 'ZY': np.float64(-0.014064118773838145), 'ZZ': np.float64(0.953474752410091)}\n"
     ]
    }
   ],
   "source": [
    "qubits.set_relationship( {'XX':1}, 0,1, fraction=0.5 )\n",
    "\n",
    "print(qubits.get_relationship(0,1))"
   ]
  },
  {
   "cell_type": "markdown",
   "metadata": {},
   "source": [
    "# Creating Algorithms\n",
    "\n",
    "By thinking of terms of these single- and two-qubit variables, and by manipulating them using the methods supplied, we can create algorithms to solve problems.\n",
    "\n",
    "A concrete example of this can be seen in\n",
    "\n",
    "* [\"A quantum procedure for map generation\", by James R. Wootton](https://arxiv.org/abs/2005.10327)\n",
    "\n",
    "where `quantumgraph` is used to implement a rudimentary AI for a Civilization-like game.\n",
    "\n",
    "Another example is\n",
    "\n",
    "* [\"Determining eigenstates and thermal states on a quantum computer using quantum imaginary time evolution\" by Motta, et al.](https://arxiv.org/abs/1901.07653)\n",
    "\n",
    "which is presents a method for calculating ground states for Hamiltonians of interacting particles. It uses the same basic idea as is implemented in `quantumgraph`, but with a $p$-local tomography in general (for finite $p$) and with its own custom methods to set the variables."
   ]
  }
 ],
 "metadata": {
  "kernelspec": {
   "display_name": ".venv",
   "language": "python",
   "name": "python3"
  },
  "language_info": {
   "codemirror_mode": {
    "name": "ipython",
    "version": 3
   },
   "file_extension": ".py",
   "mimetype": "text/x-python",
   "name": "python",
   "nbconvert_exporter": "python",
   "pygments_lexer": "ipython3",
   "version": "3.11.9"
  }
 },
 "nbformat": 4,
 "nbformat_minor": 4
}
