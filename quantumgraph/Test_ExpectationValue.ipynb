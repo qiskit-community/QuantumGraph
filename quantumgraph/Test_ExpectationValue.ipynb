{
 "cells": [
  {
   "cell_type": "code",
   "execution_count": 1,
   "metadata": {},
   "outputs": [
    {
     "name": "stdout",
     "output_type": "stream",
     "text": [
      "An IBMQ account could not be loaded\n"
     ]
    }
   ],
   "source": [
    "from quantumgraph import ExpectationValue"
   ]
  },
  {
   "cell_type": "code",
   "execution_count": 2,
   "metadata": {},
   "outputs": [],
   "source": [
    "import numpy as np\n",
    "import time\n",
    "from qiskit import QuantumCircuit"
   ]
  },
  {
   "cell_type": "code",
   "execution_count": 3,
   "metadata": {
    "scrolled": false
   },
   "outputs": [],
   "source": [
    "# are single qubit operations okay?\n",
    "n = 2\n",
    "qc = QuantumCircuit(n)\n",
    "qc.h(0)\n",
    "qc.ry(-np.pi/8,1)\n",
    "ev = ExpectationValue(n)\n",
    "ev.apply_circuit(qc)\n",
    "assert ev.pauli_decomp['XI']==1, ev.pauli_decomp\n",
    "assert ev.pauli_decomp['XX']==-0.3826834323650898, ev.pauli_decomp\n",
    "assert ev.pauli_decomp['XZ']==.9238795325112867, ev.pauli_decomp\n",
    "\n",
    "# does a cx copy an x?\n",
    "n = 2\n",
    "qc = QuantumCircuit(n)\n",
    "qc.x(0)\n",
    "qc.cx(0,1)\n",
    "ev = ExpectationValue(n)\n",
    "ev.apply_circuit(qc)\n",
    "assert ev.pauli_decomp['IZ']==-1, ev.pauli_decomp\n",
    "\n",
    "# are all the 2 qubit correlators present in a 3 qubit ghz state?\n",
    "n = 3\n",
    "qc = QuantumCircuit(n)\n",
    "qc.h(0)\n",
    "qc.cx(0,1)\n",
    "qc.cx(1,2)\n",
    "ev = ExpectationValue(n)\n",
    "ev.apply_circuit(qc)\n",
    "assert ev.pauli_decomp['ZZI']==1, ev.pauli_decomp\n",
    "assert ev.pauli_decomp['ZIZ']==1, ev.pauli_decomp\n",
    "assert ev.pauli_decomp['IZZ']==1, ev.pauli_decomp\n",
    "\n",
    "# is everything present when using k=3?\n",
    "ev = ExpectationValue(n,k=3)\n",
    "ev.apply_circuit(qc)\n",
    "assert ev.pauli_decomp['ZZI']==1, ev.pauli_decomp\n",
    "assert ev.pauli_decomp['ZIZ']==1, ev.pauli_decomp\n",
    "assert ev.pauli_decomp['IZZ']==1, ev.pauli_decomp\n",
    "assert ev.pauli_decomp['XYY']==-1, ev.pauli_decomp\n",
    "assert ev.pauli_decomp['YXY']==-1, ev.pauli_decomp\n",
    "assert ev.pauli_decomp['YYX']==-1, ev.pauli_decomp\n",
    "assert ev.pauli_decomp['XXX']==1, ev.pauli_decomp\n",
    "\n",
    "# does it run  fast for 50 qubits? (k=2 and no pairs)\n",
    "num_qubits = 50\n",
    "qc = QuantumCircuit(num_qubits)\n",
    "qc.h(0)\n",
    "for j in range(1,num_qubits):\n",
    "    qc.ry(np.pi/10,j)\n",
    "    qc.cx(j-1,j)\n",
    "t0 = time.time()\n",
    "ev = ExpectationValue(num_qubits)\n",
    "ev.apply_circuit(qc)\n",
    "t = time.time()-t0\n",
    "assert t<10, t\n",
    "\n",
    "# does it run  fast for 50 qubits? (k=3 and nearest neighbours)\n",
    "pairs = []\n",
    "for j in range(num_qubits-4):\n",
    "    for delta in range(1,5):\n",
    "        pairs.append([j,j+delta])\n",
    "t0 = time.time()\n",
    "ev = ExpectationValue(num_qubits,k=3,pairs=pairs)\n",
    "ev.apply_circuit(qc)\n",
    "t = time.time()-t0\n",
    "assert t<10, t"
   ]
  },
  {
   "cell_type": "code",
   "execution_count": null,
   "metadata": {},
   "outputs": [],
   "source": []
  }
 ],
 "metadata": {
  "kernelspec": {
   "display_name": ".venv",
   "language": "python",
   "name": "python3"
  },
  "language_info": {
   "codemirror_mode": {
    "name": "ipython",
    "version": 3
   },
   "file_extension": ".py",
   "mimetype": "text/x-python",
   "name": "python",
   "nbconvert_exporter": "python",
   "pygments_lexer": "ipython3",
   "version": "3.11.9"
  }
 },
 "nbformat": 4,
 "nbformat_minor": 4
}
